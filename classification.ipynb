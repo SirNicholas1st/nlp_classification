{
 "cells": [
  {
   "cell_type": "code",
   "execution_count": 61,
   "metadata": {},
   "outputs": [],
   "source": [
    "# importing necessary libraries\n",
    "import pandas as pd\n",
    "import spacy\n",
    "from spacy.tokens import DocBin"
   ]
  },
  {
   "cell_type": "code",
   "execution_count": 62,
   "metadata": {},
   "outputs": [
    {
     "data": {
      "text/html": [
       "<div>\n",
       "<style scoped>\n",
       "    .dataframe tbody tr th:only-of-type {\n",
       "        vertical-align: middle;\n",
       "    }\n",
       "\n",
       "    .dataframe tbody tr th {\n",
       "        vertical-align: top;\n",
       "    }\n",
       "\n",
       "    .dataframe thead th {\n",
       "        text-align: right;\n",
       "    }\n",
       "</style>\n",
       "<table border=\"1\" class=\"dataframe\">\n",
       "  <thead>\n",
       "    <tr style=\"text-align: right;\">\n",
       "      <th></th>\n",
       "      <th>Found helpful</th>\n",
       "      <th>Recommend</th>\n",
       "      <th>Hours on record</th>\n",
       "      <th>Date posted</th>\n",
       "      <th>Review text</th>\n",
       "    </tr>\n",
       "  </thead>\n",
       "  <tbody>\n",
       "    <tr>\n",
       "      <th>0</th>\n",
       "      <td>1839</td>\n",
       "      <td>True</td>\n",
       "      <td>46.3</td>\n",
       "      <td>1 November, 2022</td>\n",
       "      <td>“Don't Be Sorry, Be Better.”</td>\n",
       "    </tr>\n",
       "    <tr>\n",
       "      <th>1</th>\n",
       "      <td>4301</td>\n",
       "      <td>True</td>\n",
       "      <td>42.9</td>\n",
       "      <td>8 November, 2022</td>\n",
       "      <td>Bring God Of War Ragnarok on PC</td>\n",
       "    </tr>\n",
       "    <tr>\n",
       "      <th>2</th>\n",
       "      <td>1860</td>\n",
       "      <td>True</td>\n",
       "      <td>18.2</td>\n",
       "      <td>14 January, 2022</td>\n",
       "      <td>It's rare to see this much polish (on a consol...</td>\n",
       "    </tr>\n",
       "    <tr>\n",
       "      <th>3</th>\n",
       "      <td>7225</td>\n",
       "      <td>True</td>\n",
       "      <td>36.4</td>\n",
       "      <td>17 January, 2022</td>\n",
       "      <td>No additional account, no unnecessary launcher...</td>\n",
       "    </tr>\n",
       "    <tr>\n",
       "      <th>4</th>\n",
       "      <td>2340</td>\n",
       "      <td>True</td>\n",
       "      <td>11.3</td>\n",
       "      <td>22 December, 2022</td>\n",
       "      <td>hi</td>\n",
       "    </tr>\n",
       "  </tbody>\n",
       "</table>\n",
       "</div>"
      ],
      "text/plain": [
       "   Found helpful  Recommend  Hours on record        Date posted  \\\n",
       "0           1839       True             46.3   1 November, 2022   \n",
       "1           4301       True             42.9   8 November, 2022   \n",
       "2           1860       True             18.2   14 January, 2022   \n",
       "3           7225       True             36.4   17 January, 2022   \n",
       "4           2340       True             11.3  22 December, 2022   \n",
       "\n",
       "                                         Review text  \n",
       "0                       “Don't Be Sorry, Be Better.”  \n",
       "1                    Bring God Of War Ragnarok on PC  \n",
       "2  It's rare to see this much polish (on a consol...  \n",
       "3  No additional account, no unnecessary launcher...  \n",
       "4                                                 hi  "
      ]
     },
     "execution_count": 62,
     "metadata": {},
     "output_type": "execute_result"
    }
   ],
   "source": [
    "fp = r\"C:\\Users\\Tino\\Desktop\\Python\\Steam review scraping\\reviews.csv\"\n",
    "df = pd.read_csv(fp, sep=\";\", index_col=0)\n",
    "df.head()"
   ]
  },
  {
   "cell_type": "code",
   "execution_count": 63,
   "metadata": {},
   "outputs": [
    {
     "data": {
      "text/plain": [
       "Found helpful        0\n",
       "Recommend            0\n",
       "Hours on record      0\n",
       "Date posted          0\n",
       "Review text        154\n",
       "dtype: int64"
      ]
     },
     "execution_count": 63,
     "metadata": {},
     "output_type": "execute_result"
    }
   ],
   "source": [
    "# Checking if there are NaN values.\n",
    "df.isna().sum()"
   ]
  },
  {
   "cell_type": "code",
   "execution_count": 64,
   "metadata": {},
   "outputs": [
    {
     "data": {
      "text/plain": [
       "True     36230\n",
       "False     1276\n",
       "Name: Recommend, dtype: int64"
      ]
     },
     "execution_count": 64,
     "metadata": {},
     "output_type": "execute_result"
    }
   ],
   "source": [
    "# Droppping empty review rows and columns that wont be needed for NLP.\n",
    "df = df.dropna()[[\"Recommend\", \"Review text\"]]\n",
    "# Checking if the data is balanced\n",
    "df[\"Recommend\"].value_counts()"
   ]
  },
  {
   "cell_type": "code",
   "execution_count": 65,
   "metadata": {},
   "outputs": [
    {
     "data": {
      "text/plain": [
       "array(['hi', 'BOY', 'boy', ' BOY', 'Boy.', 'BOY!', '👍', 'boy.', 'boi',\n",
       "       'BOI', ' ᠌', 'Boi.', 'Boy', ':3', 'Boi!', '`', 'OwO', 'good',\n",
       "       'yes', 'BOY.', 'ok', 'Yes', 'goty', '^_^', 'Boi', 'Boy!', 'GOTY',\n",
       "       'yes!', 'fun', 'boi.', 'Buoy', 'angy', 'ong', 'game', '.', 'e',\n",
       "       'Yes.', 'Good', '1337', 'bOY', 'WoaW', 'gg', '++++', 'boii', 'hjj',\n",
       "       '!', 'ggo', 'gud', 'nice', 'HI', 'GOOD', 'pog', 'yup', 'Gud',\n",
       "       'boat', 'Ω', 'WOW', 'øks', 'bald', 'epic', 'Fire', 'real', 'peak',\n",
       "       'bro', 'l', 'm', 'god', 'GAME', 'jeng', 'kill', '9/10', 'Nice',\n",
       "       'boy!', 'Hmm', 'ies', '3>', ':)', 'top', '1+', 'GOAT', 'dem',\n",
       "       'yea', 'Epic', 'BOY+', '👍👍👍', '<3', 'gda', 'ye', 'SEX', 'mhm',\n",
       "       'NKJH', 'لا', 'w', ':D', 'Sure', 'Bald', 'swag', 'voi¡', 'GUD',\n",
       "       '5*', 'best', 'yes.', '❤', 'BOI.', ';)', '...', 'YOB', 'WOW!',\n",
       "       ' boy', '+', 'BOI!', 'yeah', '5/5', 'ujgb', 'GOD', 'fye', 'ggz',\n",
       "       'Fr', 'A1', 'God.', 'ᛒᛟᛁ', 'Gid.', 'gud!', 'ygh', 'yep', '[',\n",
       "       'si.', 'LIT', 'EPIC', 'yas', 'wow', 'Wow!', 'n', 'Ham', 'woah',\n",
       "       'GG', 'BALD', 'clat', 'h', '😎', 'FUN', 'YES.', 'kkk', 'goat', 'no',\n",
       "       'BoY', 'Goty', 'God', 'Gut', 'Lit', 'girl', '5', 'cool', 'gud.',\n",
       "       'B---', 'PEBJ', 'Lol', 'YES', 'v', 'd', 'war', 'Best', 'k', 'fine',\n",
       "       'hehe', 'amaz', '+1', 'Peak', 'BRUH', 'who', ',', '♥♥♥♥', 'YO',\n",
       "       'yyes', 'gd', 'fire', 'Fun', 'bo', 'dud', 'boyy', 'p', 'A', '-',\n",
       "       'dad', '𝘽𝙊𝙔!', 'W', '8/10', 'sda', 'M', 'yah', 'bao', 'xd', 'da',\n",
       "       'alr', 'ehh', '6', 'g', '😐👍', 'er', ': )', 'meh', '\\xad', 'a',\n",
       "       'Boy?', 'Meh.', '\\u200e', '....', '1', 'bad', 'jj', 'dumb', 'lame',\n",
       "       'mid', '6.0', 'ew', \"#'\", 'kuhl', 'woot', 'sexy', 'Art.', 'Boi~',\n",
       "       'dilf', 'Yer', 'ragh', 'bot', 'fav', 'TOP!', 'yes🗿', 'W...',\n",
       "       '👨\\u200d👦', 'sex', 'BOYY', 'Gud.', 'ig', 'boyh', 'gdgd', '(H)',\n",
       "       'kool', '😍', 'A+', 'I87', 'like', 'sick', 'dope', 'OP', 'holy',\n",
       "       'Cuac', 'gh', 'yu', 'bom', 'ello', 'Huge', 'fef', 'nom', 'waer',\n",
       "       'OMG', ';**', 'ya', 'head', 'rage', 'gas', 'BOII', 'fs', ';]',\n",
       "       'NO.', 'Ja', 'Gas', 'PEAK', 'Top.', 'oke', '565', 'zeus', 'p;',\n",
       "       'lit', 'yesx', 'Cool', 'gv', 'LKHV', 'koos', 'uh', 'df', 'Yes!',\n",
       "       'yews', 'WAR', 'GGWP', 'yr', 'GOoD', '/', 'idk', 'NICE', 'COOL',\n",
       "       'play', '45', 'hard', 'ד', 'GOO', 'Bas', 'º', '4', '!!!', 'bery',\n",
       "       'GG.', 'BEST', 'j', '69', 'yesd', 'ARES', 'Pog', 'wow.', 'foda',\n",
       "       'A+++', '100%', 'art', 'i', 'b', 'son', 'BOY?', 'loml', 'o.o',\n",
       "       'ljm', 'joe', 'r', 'hh', 'damn', 'go', 'buy', '🔥🔥🔥🔥', 'No.',\n",
       "       'guud', ';', 'BOY\\\\', 'PLAY', 'War', '♥♥♥', 'brap', 'Boy,', 'heat',\n",
       "       'Snow', 'vhbn', '/.', 'Goat', 'goog', 'H', 'sd', 'ZEUS', 'vool',\n",
       "       'fun!', 'F', 'YH', 'mm', 'Real', 'is k', 'Ω', 'Co+l', 'nin',\n",
       "       'Mwah', ' Boy', 'Epik', 'Dank', 's', '\\u1cbc', 'ki', 'xss', '👍🏻',\n",
       "       'BOYE', 'n m', 'Bøãe', 'YEEE', '👍🏻🥇', '..', 'ART', 'yeet', 'yess',\n",
       "       'EE', 'E', 'hOAH', ' OK', 'bwuh', '(:', 'pp', 'epik', '7', 'NO',\n",
       "       'BÃO', 'Yup', 'Ok.', 'f', 'non', 'mn', 'son.', '7/10', '👌', 'boeh',\n",
       "       'easy', '👍🏽', 'OK', ':|', 'Dope', 'jujn', '1234', 'ppci', '100',\n",
       "       'lol', 'love', 'Bom!', 'yaes', 'kona', 'vaj', 'Bosh', 'cold',\n",
       "       'Ω/10', 'miau', 'poto', 'Hot', '6/5', 'cul', 'yeas', 'q', 'bruh',\n",
       "       'UwU', 'Art', 'GOOG', 'POG', 'ㅤ', 'Top', ':0', 'yote', 'Bom',\n",
       "       'BOYO', 'Yep', 'Si', '\\\\', 'Ye', 'gow', 'boi!', 'we', 'xp', 'tzet',\n",
       "       'jeba', 'si', 'yeh', 'yers', 'milk', 'אחלה', 'y4re', ' jhb', 'nut',\n",
       "       'fv', 'axe', \"'\", 'זגכה', '._.', 'PCMR', 'I', 'meow', 'its', 'yee',\n",
       "       'borb', 'sui', 'Booo', 'Like', 'faxs', 'Yum', 'Nut', 'honk', 'ez',\n",
       "       '(y)', 'YEP', 'gang', \"'-'\", 'fff', 'came', '10', '🔥🔥🔥', 'vfth',\n",
       "       '⠀', 'BOi!', 'gut', 'B', 'G', 'Fun!', '.opo', 'ffde', 'AAA', '2',\n",
       "       'yo', 'gOOD', 'AXE', 'Skol', 'boah', 'jhzg', ':P', 'X', 'grat',\n",
       "       'Love', 'YES!', '🤯', 'Mid', 'G.G.', '123', 'joss', '🤍🤍', 'gods',\n",
       "       'YEs', 'fg', 'BOy', '🥶', 'men', 'kWEL', 'zxx', 'litt', 'gudt',\n",
       "       'man', 'kida', 'BOAY', 'ypu', 'sus', 'fun.', '.,l', 'poop', '👍👍👍👍',\n",
       "       'mui', 'mint', 'z', 'Bonk', 'bosh', 'yuh', '21', 'Fun.', 'greg',\n",
       "       'nun', '！！！', '11/9', 'GoW', 'GOTR', 'go0d', 'Yeah', 'dub', 'mast',\n",
       "       'The', 'ل', 'boss', 'feet', 'x', 'GOW', '😎🤙', 'Ya', 'ss', 'eh',\n",
       "       'boyu', 'Slay', 'dfy', 'oki', 'ΒΟΥ!', 'goo', '22g', 'Tru', 'Loki',\n",
       "       'wow!', 'GoaT', 'll', 'weh.', '*', 'Yee', 'waxa', 'Grea', 'ben',\n",
       "       'dada', '\\\\;;', 'bbc', 'HOT', 'Play', '.;l', ':-)', 'adad', 'bwoy',\n",
       "       'A++', ',m', 'brok', '𝑩𝒐𝒚', 'O', 'haha', 'Goot', '🔥🔥', 'asd',\n",
       "       'jiu', 'mwn', 'mad', '(^^)', '--', 'Mods', 'nic3', 'boob', 'c',\n",
       "       'fyry', 'uhtg', 'jo!', 'ｂｏｙ．', 'Bien', 'aesf', '0', '☺', '🐐',\n",
       "       'Yuh', 'jews'], dtype=object)"
      ]
     },
     "execution_count": 65,
     "metadata": {},
     "output_type": "execute_result"
    }
   ],
   "source": [
    "# There might be some cleaning that needs to be done in the data, lets check what kind of reviews the short reviews are.\n",
    "# Lets create a boolean mask for the dataframe which tells us if the lenght of the review is under 5 chars long.\n",
    "mask = df[\"Review text\"].str.len() < 5\n",
    "# Lets review the what kind of unique reviews the \"review text\" column contains.\n",
    "df.loc[mask][\"Review text\"].unique()"
   ]
  },
  {
   "cell_type": "code",
   "execution_count": 66,
   "metadata": {},
   "outputs": [],
   "source": [
    "# Looks like we wont be missing too much valuable training data if we drop the reviews that are shorter than 5 lenght wise.\n",
    "# Using the mask we created to drop the unwanted values and updating the indices.\n",
    "df = df.drop(df.loc[mask].index).reset_index(drop=True)\n",
    "# lets swap the column places, the model will need a tuple with the text, recommend.\n",
    "df = df[[\"Review text\", \"Recommend\"]]"
   ]
  },
  {
   "cell_type": "code",
   "execution_count": 60,
   "metadata": {},
   "outputs": [],
   "source": [
    "# there are too many positive reviews compared to negative ones so lets balance the data.\n",
    "# Splitting the data to 2 dataframes and slicing the one with positive ones to match the lenght of the negative reviews.\n",
    "df_neg = df[df[\"Recommend\"] == False]\n",
    "df_pos = df[df[\"Recommend\"] == True][:len(df_neg)]\n",
    "# finally combining the dataframes to a single one.\n",
    "df_balanced = pd.concat([df_neg, df_pos], axis=0)\n",
    "df_balanced.reset_index(inplace=True, drop=True)"
   ]
  },
  {
   "cell_type": "code",
   "execution_count": 67,
   "metadata": {},
   "outputs": [],
   "source": [
    "# creating a list of tuples from the pandas df\n",
    "tuples = list(df_balanced.itertuples(index=False, name=None))\n"
   ]
  },
  {
   "cell_type": "code",
   "execution_count": 68,
   "metadata": {},
   "outputs": [],
   "source": [
    "training_data = []\n",
    "nlp = spacy.load(\"en_core_web_md\")\n",
    "# a for loop for assigning binary data to the reviews\n",
    "for review_text, recommend in nlp.pipe(tuples, as_tuples=True):\n",
    "\n",
    "    if recommend == True:\n",
    "        review_text.cats[\"Recommended\"] = 1\n",
    "        review_text.cats[\"Not recommended\"] = 0\n",
    "        \n",
    "    else:\n",
    "        review_text.cats[\"Recommended\"] = 0\n",
    "        review_text.cats[\"Not recommended\"] = 1\n",
    "\n",
    "    training_data.append(review_text)"
   ]
  },
  {
   "cell_type": "code",
   "execution_count": 69,
   "metadata": {},
   "outputs": [
    {
     "data": {
      "text/plain": [
       "{'Recommended': 0, 'Not recommended': 1}"
      ]
     },
     "execution_count": 69,
     "metadata": {},
     "output_type": "execute_result"
    }
   ],
   "source": [
    "# checking the categories for the first review.\n",
    "training_data[0].cats"
   ]
  },
  {
   "cell_type": "code",
   "execution_count": 70,
   "metadata": {},
   "outputs": [],
   "source": [
    "doc_bin = DocBin(docs=training_data)\n",
    "# create the \"Data\" folder before this\n",
    "doc_bin.to_disk(\"./Data/train.spacy\")"
   ]
  },
  {
   "attachments": {},
   "cell_type": "markdown",
   "metadata": {},
   "source": [
    "# Training the model TO DO\n",
    "\n",
    "python -m spacy init fill-config ./base_config.cfg ./config.cfg\n",
    "python -m spacy train config.cfg --output ./Output\n"
   ]
  },
  {
   "attachments": {},
   "cell_type": "markdown",
   "metadata": {},
   "source": [
    "### Testing the model\n"
   ]
  },
  {
   "cell_type": "code",
   "execution_count": 86,
   "metadata": {},
   "outputs": [],
   "source": [
    "# Loading the best model\n",
    "nlp = spacy.load(\"Output/model-best\")\n"
   ]
  },
  {
   "cell_type": "code",
   "execution_count": 100,
   "metadata": {},
   "outputs": [
    {
     "data": {
      "text/plain": [
       "{'Recommended': 0.5304109454154968, 'Not recommended': 0.49441006779670715}"
      ]
     },
     "execution_count": 100,
     "metadata": {},
     "output_type": "execute_result"
    }
   ],
   "source": [
    "# Finally we can use the model to check if the a given text is a positive or a negative comment.\n",
    "review = nlp(\"dog shit ass game dont buy\")\n",
    "review.cats"
   ]
  },
  {
   "cell_type": "code",
   "execution_count": null,
   "metadata": {},
   "outputs": [],
   "source": []
  }
 ],
 "metadata": {
  "kernelspec": {
   "display_name": "base",
   "language": "python",
   "name": "python3"
  },
  "language_info": {
   "codemirror_mode": {
    "name": "ipython",
    "version": 3
   },
   "file_extension": ".py",
   "mimetype": "text/x-python",
   "name": "python",
   "nbconvert_exporter": "python",
   "pygments_lexer": "ipython3",
   "version": "3.9.12"
  },
  "orig_nbformat": 4
 },
 "nbformat": 4,
 "nbformat_minor": 2
}
